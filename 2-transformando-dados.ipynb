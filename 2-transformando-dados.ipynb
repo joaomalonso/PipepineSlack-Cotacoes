{
 "cells": [
  {
   "cell_type": "code",
   "execution_count": 0,
   "metadata": {
    "application/vnd.databricks.v1+cell": {
     "cellMetadata": {},
     "inputWidgets": {},
     "nuid": "c0851da5-369e-40a7-b882-633c372a5d5e",
     "showTitle": false,
     "tableResultSettingsMap": {},
     "title": ""
    }
   },
   "outputs": [],
   "source": [
    "from pyspark.sql.functions import to_date, first, col, round"
   ]
  },
  {
   "cell_type": "code",
   "execution_count": 0,
   "metadata": {
    "application/vnd.databricks.v1+cell": {
     "cellMetadata": {
      "byteLimit": 2048000,
      "rowLimit": 10000
     },
     "inputWidgets": {},
     "nuid": "0ec02abb-0575-43a0-8d9b-b364bd5e0df9",
     "showTitle": false,
     "tableResultSettingsMap": {},
     "title": ""
    }
   },
   "outputs": [
    {
     "output_type": "stream",
     "name": "stdout",
     "output_type": "stream",
     "text": [
      "+-----+----------+----------+\n|moeda|      taxa|      data|\n+-----+----------+----------+\n|  SBD|  1.523375|2025-06-28|\n|  SCR|  2.676377|2025-06-28|\n|  SDG|109.590878|2025-06-28|\n|  SEK|   1.73045|2025-06-28|\n|  SGD|   0.23285|2025-06-28|\n+-----+----------+----------+\nonly showing top 5 rows\n"
     ]
    }
   ],
   "source": [
    "df_junto = spark.read.parquet(\"dbfs:/databricks-results/bronze/*/*/*\")"
   ]
  },
  {
   "cell_type": "code",
   "execution_count": 0,
   "metadata": {
    "application/vnd.databricks.v1+cell": {
     "cellMetadata": {
      "byteLimit": 2048000,
      "rowLimit": 10000
     },
     "inputWidgets": {},
     "nuid": "1ce9ac0b-f315-46dd-a565-efd10c944399",
     "showTitle": false,
     "tableResultSettingsMap": {},
     "title": ""
    }
   },
   "outputs": [
    {
     "output_type": "stream",
     "name": "stdout",
     "output_type": "stream",
     "text": [
      "+-----+--------+----------+\n|moeda|    taxa|      data|\n+-----+--------+----------+\n|  USD|0.182498|2025-06-28|\n|  USD|0.184104|2025-06-30|\n|  USD| 0.18314|2025-07-01|\n|  USD|0.182485|2025-06-29|\n|  USD| 0.17963|2025-07-21|\n+-----+--------+----------+\nonly showing top 5 rows\n"
     ]
    }
   ],
   "source": [
    "moedas = ['USD', 'EUR', 'GBP']\n",
    "\n",
    "df_moedas = df_junto.filter(df_junto.moeda.isin(moedas))"
   ]
  },
  {
   "cell_type": "code",
   "execution_count": 0,
   "metadata": {
    "application/vnd.databricks.v1+cell": {
     "cellMetadata": {
      "byteLimit": 2048000,
      "rowLimit": 10000
     },
     "inputWidgets": {},
     "nuid": "6d429894-7bc1-42ce-90e5-419777a937e2",
     "showTitle": false,
     "tableResultSettingsMap": {},
     "title": ""
    }
   },
   "outputs": [],
   "source": [
    "\n",
    "\n",
    "df_moedas = df_moedas.withColumn(\"data\", to_date(\"data\"))"
   ]
  },
  {
   "cell_type": "code",
   "execution_count": 0,
   "metadata": {
    "application/vnd.databricks.v1+cell": {
     "cellMetadata": {
      "byteLimit": 2048000,
      "rowLimit": 10000
     },
     "inputWidgets": {},
     "nuid": "210d2979-31dd-46c5-a8fe-73fb7a26c1ac",
     "showTitle": false,
     "tableResultSettingsMap": {},
     "title": ""
    }
   },
   "outputs": [
    {
     "output_type": "stream",
     "name": "stdout",
     "output_type": "stream",
     "text": [
      "+----------+--------+--------+--------+\n|      data|     EUR|     GBP|     USD|\n+----------+--------+--------+--------+\n|2025-06-28|0.155727|  0.1347|0.182498|\n|2025-06-29|0.155612|0.133018|0.182485|\n|2025-06-30|0.156198|0.134092|0.184104|\n|2025-07-01|0.155134|0.133236| 0.18314|\n|2025-07-18|0.154178|0.133598|0.179195|\n+----------+--------+--------+--------+\nonly showing top 5 rows\n"
     ]
    }
   ],
   "source": [
    "\n",
    "\n",
    "resultado_taxas_conversao = df_moedas.groupby(\"data\")\\\n",
    "                                    .pivot(\"moeda\")\\\n",
    "                                    .agg(first(\"taxa\"))\\\n",
    "                                    .orderBy(\"data\",ascending=False)"
   ]
  },
  {
   "cell_type": "code",
   "execution_count": 0,
   "metadata": {
    "application/vnd.databricks.v1+cell": {
     "cellMetadata": {
      "byteLimit": 2048000,
      "rowLimit": 10000
     },
     "inputWidgets": {},
     "nuid": "fafdc642-b11d-4bce-9f44-927fad79cd6b",
     "showTitle": false,
     "tableResultSettingsMap": {},
     "title": ""
    }
   },
   "outputs": [
    {
     "output_type": "stream",
     "name": "stdout",
     "output_type": "stream",
     "text": [
      "+----------+--------+--------+--------+\n|      data|     EUR|     GBP|     USD|\n+----------+--------+--------+--------+\n|2025-06-28|0.155727|  0.1347|0.182498|\n|2025-06-29|0.155612|0.133018|0.182485|\n|2025-06-30|0.156198|0.134092|0.184104|\n|2025-07-01|0.155134|0.133236| 0.18314|\n|2025-07-18|0.154178|0.133598|0.179195|\n+----------+--------+--------+--------+\nonly showing top 5 rows\n"
     ]
    }
   ],
   "source": [
    "resultado_valores_reais = resultado_taxas_conversao.select(\"*\") "
   ]
  },
  {
   "cell_type": "code",
   "execution_count": 0,
   "metadata": {
    "application/vnd.databricks.v1+cell": {
     "cellMetadata": {
      "byteLimit": 2048000,
      "rowLimit": 10000
     },
     "inputWidgets": {},
     "nuid": "1d9822c0-6589-4bcc-9b82-a97afd6a7153",
     "showTitle": false,
     "tableResultSettingsMap": {},
     "title": ""
    }
   },
   "outputs": [],
   "source": [
    "\n",
    "\n",
    "for moeda in moedas:\n",
    "    resultado_valores_reais = resultado_valores_reais\\\n",
    "                                .withColumn(\n",
    "                                    moeda, round(1/col(moeda),4)\n",
    "                                    )"
   ]
  },
  {
   "cell_type": "code",
   "execution_count": 0,
   "metadata": {
    "application/vnd.databricks.v1+cell": {
     "cellMetadata": {
      "byteLimit": 2048000,
      "rowLimit": 10000
     },
     "inputWidgets": {},
     "nuid": "a9c9bdc5-8ebf-44fd-8679-ee5bde0f3b82",
     "showTitle": false,
     "tableResultSettingsMap": {},
     "title": ""
    }
   },
   "outputs": [],
   "source": [
    "resultado_taxas_conversao = resultado_taxas_conversao.coalesce(1)\n",
    "resultado_valores_reais = resultado_valores_reais.coalesce(1)"
   ]
  },
  {
   "cell_type": "code",
   "execution_count": 0,
   "metadata": {
    "application/vnd.databricks.v1+cell": {
     "cellMetadata": {
      "byteLimit": 2048000,
      "rowLimit": 10000
     },
     "inputWidgets": {},
     "nuid": "616ed905-a997-46be-be59-0062a8a6ed30",
     "showTitle": false,
     "tableResultSettingsMap": {},
     "title": ""
    }
   },
   "outputs": [],
   "source": [
    "resultado_taxas_conversao.write\\\n",
    "    .mode (\"overwrite\")\\\n",
    "    .format(\"csv\")\\\n",
    "    .option(\"header\", \"true\")\\\n",
    "    .save(\"dbfs:/databricks-results/prata/taxas_conversao\")\n",
    "    \n",
    "resultado_valores_reais.write\\\n",
    "    .mode (\"overwrite\")\\\n",
    "    .format(\"csv\")\\\n",
    "    .option(\"header\", \"true\")\\\n",
    "    .save(\"dbfs:/databricks-results/prata/valores_reais\")"
   ]
  },
  {
   "cell_type": "code",
   "execution_count": 0,
   "metadata": {
    "application/vnd.databricks.v1+cell": {
     "cellMetadata": {
      "byteLimit": 2048000,
      "rowLimit": 10000
     },
     "inputWidgets": {},
     "nuid": "31d97e2a-b003-43d4-9625-13f6ea241c6d",
     "showTitle": false,
     "tableResultSettingsMap": {},
     "title": ""
    }
   },
   "outputs": [
    {
     "output_type": "execute_result",
     "data": {
      "text/plain": [
       "[FileInfo(path='dbfs:/databricks-results/bronze/2025/09/04/_committed_2025951854436089086', name='_committed_2025951854436089086', size=823, modificationTime=1757034438000),\n",
       " FileInfo(path='dbfs:/databricks-results/bronze/2025/09/04/_committed_2447108880190010500', name='_committed_2447108880190010500', size=823, modificationTime=1757037253000),\n",
       " FileInfo(path='dbfs:/databricks-results/bronze/2025/09/04/_committed_6213096474060937244', name='_committed_6213096474060937244', size=834, modificationTime=1757034399000),\n",
       " FileInfo(path='dbfs:/databricks-results/bronze/2025/09/04/_committed_6562030111697256892', name='_committed_6562030111697256892', size=424, modificationTime=1757034362000),\n",
       " FileInfo(path='dbfs:/databricks-results/bronze/2025/09/04/_committed_vacuum9021653038760063555', name='_committed_vacuum9021653038760063555', size=96, modificationTime=1757037254000),\n",
       " FileInfo(path='dbfs:/databricks-results/bronze/2025/09/04/_started_2447108880190010500', name='_started_2447108880190010500', size=0, modificationTime=1757037249000),\n",
       " FileInfo(path='dbfs:/databricks-results/bronze/2025/09/04/part-00000-tid-2447108880190010500-cb1e1331-4e5a-4ada-aa03-35a95cebed88-265-1-c000.snappy.parquet', name='part-00000-tid-2447108880190010500-cb1e1331-4e5a-4ada-aa03-35a95cebed88-265-1-c000.snappy.parquet', size=1762, modificationTime=1757037253000),\n",
       " FileInfo(path='dbfs:/databricks-results/bronze/2025/09/04/part-00001-tid-2447108880190010500-cb1e1331-4e5a-4ada-aa03-35a95cebed88-266-1-c000.snappy.parquet', name='part-00001-tid-2447108880190010500-cb1e1331-4e5a-4ada-aa03-35a95cebed88-266-1-c000.snappy.parquet', size=1757, modificationTime=1757037251000),\n",
       " FileInfo(path='dbfs:/databricks-results/bronze/2025/09/04/part-00002-tid-2447108880190010500-cb1e1331-4e5a-4ada-aa03-35a95cebed88-267-1-c000.snappy.parquet', name='part-00002-tid-2447108880190010500-cb1e1331-4e5a-4ada-aa03-35a95cebed88-267-1-c000.snappy.parquet', size=1767, modificationTime=1757037251000),\n",
       " FileInfo(path='dbfs:/databricks-results/bronze/2025/09/04/part-00003-tid-2447108880190010500-cb1e1331-4e5a-4ada-aa03-35a95cebed88-268-1-c000.snappy.parquet', name='part-00003-tid-2447108880190010500-cb1e1331-4e5a-4ada-aa03-35a95cebed88-268-1-c000.snappy.parquet', size=1769, modificationTime=1757037251000)]"
      ]
     },
     "execution_count": 30,
     "metadata": {},
     "output_type": "execute_result"
    }
   ],
   "source": [
    "dbutils.fs.ls(\"dbfs:/databricks-results/bronze/2025/09/04\")"
   ]
  }
 ],
 "metadata": {
  "application/vnd.databricks.v1+notebook": {
   "computePreferences": null,
   "dashboards": [],
   "environmentMetadata": {
    "base_environment": "",
    "environment_version": "3"
   },
   "inputWidgetPreferences": null,
   "language": "python",
   "notebookMetadata": {
    "pythonIndentUnit": 4
   },
   "notebookName": "2-transformando-dados",
   "widgets": {}
  },
  "language_info": {
   "name": "python"
  }
 },
 "nbformat": 4,
 "nbformat_minor": 0
}