{
 "cells": [
  {
   "cell_type": "code",
   "execution_count": 0,
   "metadata": {
    "application/vnd.databricks.v1+cell": {
     "cellMetadata": {},
     "inputWidgets": {},
     "nuid": "92777437-541d-49ad-8133-a335114d3d35",
     "showTitle": false,
     "tableResultSettingsMap": {},
     "title": ""
    }
   },
   "outputs": [],
   "source": [
    "dbutils.widgets.text(\"data_execucao\", \"\")\n",
    "data_execucao = dbutils.widgets.get(\"data_execucao\")"
   ]
  },
  {
   "cell_type": "code",
   "execution_count": 0,
   "metadata": {
    "application/vnd.databricks.v1+cell": {
     "cellMetadata": {},
     "inputWidgets": {},
     "nuid": "6523bb20-69db-49c9-8363-6771a118300c",
     "showTitle": false,
     "tableResultSettingsMap": {},
     "title": ""
    }
   },
   "outputs": [],
   "source": [
    "print(f\"Valor recebido no widget data_execucao: '{data_execucao}'\")"
   ]
  },
  {
   "cell_type": "code",
   "execution_count": 0,
   "metadata": {
    "application/vnd.databricks.v1+cell": {
     "cellMetadata": {},
     "inputWidgets": {},
     "nuid": "e509cfa7-2aee-4d99-b2b3-3ad7a9e0f817",
     "showTitle": false,
     "tableResultSettingsMap": {},
     "title": ""
    }
   },
   "outputs": [],
   "source": [
    "print(f\"Valor recebido no widget data_execucao: '{data_execucao}'\")"
   ]
  },
  {
   "cell_type": "markdown",
   "metadata": {
    "application/vnd.databricks.v1+cell": {
     "cellMetadata": {},
     "inputWidgets": {},
     "nuid": "62884049-c573-4791-849f-bfb892456b5d",
     "showTitle": false,
     "tableResultSettingsMap": {},
     "title": ""
    }
   },
   "source": [
    "from datetime import datetime\n",
    "\n",
    "try:\n",
    "    data_execucao_formatada = datetime.strptime(data_execucao, \"%Y-%m-%d\").date()\n",
    "    print(\"Data válida:\", data_execucao_formatada)\n",
    "except ValueError:\n",
    "    raise ValueError(f\"O valor recebido em data_execucao ('{data_execucao}') não está no formato esperado YYYY-MM-DD\")"
   ]
  },
  {
   "cell_type": "code",
   "execution_count": 0,
   "metadata": {
    "application/vnd.databricks.v1+cell": {
     "cellMetadata": {
      "byteLimit": 2048000,
      "rowLimit": 10000
     },
     "inputWidgets": {},
     "nuid": "37326206-03f8-446d-b21e-669706d372bf",
     "showTitle": false,
     "tableResultSettingsMap": {},
     "title": ""
    }
   },
   "outputs": [],
   "source": [
    "import requests\n",
    "from pyspark.sql.functions import lit"
   ]
  },
  {
   "cell_type": "code",
   "execution_count": 0,
   "metadata": {
    "application/vnd.databricks.v1+cell": {
     "cellMetadata": {
      "byteLimit": 2048000,
      "rowLimit": 10000
     },
     "inputWidgets": {},
     "nuid": "2fbc7420-1688-4925-8151-a7ea4aabb1c2",
     "showTitle": false,
     "tableResultSettingsMap": {},
     "title": ""
    }
   },
   "outputs": [],
   "source": [
    "def extraindo_dados(date, base=\"BRL\"):\n",
    "\n",
    "    url = f\"https://api.apilayer.com/exchangerates_data/{date}&base={base}\"\n",
    "\n",
    "    headers= {\n",
    "    \"apikey\": \"hceWNqeYK***3UiV8u0iKL\"\n",
    "    }\n",
    "\n",
    "    parametros = {\"base\": base}\n",
    "\n",
    "    response = requests.request(\"GET\", url, headers=headers, params=parametros)\n",
    "\n",
    "    if response.status_code != 200:\n",
    "        raise Exception(\"Não consegui extrair dados!!!\")\n",
    "\n",
    "    return response.json()"
   ]
  },
  {
   "cell_type": "code",
   "execution_count": 0,
   "metadata": {
    "application/vnd.databricks.v1+cell": {
     "cellMetadata": {
      "byteLimit": 2048000,
      "rowLimit": 10000
     },
     "inputWidgets": {},
     "nuid": "fcd6f36c-befe-4a23-938b-2aadc57ad592",
     "showTitle": false,
     "tableResultSettingsMap": {},
     "title": ""
    }
   },
   "outputs": [],
   "source": [
    "def dados_para_dataframe(dado_json):\n",
    "    dados_tupla = [(moeda, float(taxa)) for moeda, taxa in dado_json[\"rates\"].items()]\n",
    "    return dados_tupla  "
   ]
  },
  {
   "cell_type": "code",
   "execution_count": 0,
   "metadata": {
    "application/vnd.databricks.v1+cell": {
     "cellMetadata": {
      "byteLimit": 2048000,
      "rowLimit": 10000
     },
     "inputWidgets": {},
     "nuid": "c1e99df0-31ce-4f8f-a820-086d64a08d97",
     "showTitle": false,
     "tableResultSettingsMap": {},
     "title": ""
    }
   },
   "outputs": [],
   "source": [
    "def salvar_arquivo_parquet(conversoes_extraidas):\n",
    "    ano, mes, dia = conversoes_extraidas['date'].split('-')\n",
    "    caminho_completo = f\"dbfs:/databricks-results/bronze/{ano}/{mes}/{dia}\"\n",
    "    response = dados_para_dataframe(conversoes_extraidas)\n",
    "    df_conversoes = spark.createDataFrame(response, schema=['moeda', 'taxa'])\n",
    "    df_conversoes = df_conversoes.withColumn(\"data\", lit(f\"{ano}-{mes}-{dia}\"))\n",
    "    \n",
    "    df_conversoes.write.format(\"parquet\")\\\n",
    "                    .mode(\"overwrite\")\\\n",
    "                    .save(caminho_completo)\n",
    "\n",
    "    print(f\"Os arquivos foram salvos em {caminho_completo}\")"
   ]
  },
  {
   "cell_type": "code",
   "execution_count": 0,
   "metadata": {
    "application/vnd.databricks.v1+cell": {
     "cellMetadata": {
      "byteLimit": 2048000,
      "rowLimit": 10000
     },
     "inputWidgets": {},
     "nuid": "7d801a3c-0e49-4331-8e8c-5fc898d307e6",
     "showTitle": false,
     "tableResultSettingsMap": {},
     "title": ""
    }
   },
   "outputs": [
    {
     "name": "stdout",
     "output_type": "stream",
     "text": [
      "Os arquivos foram salvos em dbfs:/databricks-results/bronze/2023/01/01\n"
     ]
    }
   ],
   "source": [
    "cotacoes = extraindo_dados(data_execucao) \n",
    "salvar_arquivo_parquet(cotacoes)"
   ]
  },
  {
   "cell_type": "markdown",
   "metadata": {
    "application/vnd.databricks.v1+cell": {
     "cellMetadata": {
      "byteLimit": 2048000,
      "rowLimit": 10000
     },
     "inputWidgets": {},
     "nuid": "399058f1-e79c-4442-a55c-225bf7499a9f",
     "showTitle": false,
     "tableResultSettingsMap": {},
     "title": ""
    }
   },
   "source": [
    "display(dbutils.fs.ls(\"dbfs:/databricks-results/bronze/2025/07/21\"))"
   ]
  },
  {
   "cell_type": "markdown",
   "metadata": {
    "application/vnd.databricks.v1+cell": {
     "cellMetadata": {
      "byteLimit": 2048000,
      "rowLimit": 10000
     },
     "inputWidgets": {},
     "nuid": "cdf345f2-dffe-4909-bcd8-0479d383d021",
     "showTitle": false,
     "tableResultSettingsMap": {},
     "title": ""
    }
   },
   "source": [
    "dbutils.fs.rm(\"dbfs:/databricks-results/bronze/2025\", recurse=True)"
   ]
  }
 ],
 "metadata": {
  "application/vnd.databricks.v1+notebook": {
   "computePreferences": null,
   "dashboards": [],
   "environmentMetadata": null,
   "inputWidgetPreferences": null,
   "language": "python",
   "notebookMetadata": {
    "mostRecentlyExecutedCommandWithImplicitDF": {
     "commandId": -1,
     "dataframes": [
      "_sqldf"
     ]
    },
    "pythonIndentUnit": 4
   },
   "notebookName": "1-extraindo-dadosv3",
   "widgets": {}
  },
  "language_info": {
   "name": "python"
  }
 },
 "nbformat": 4,
 "nbformat_minor": 0
}
